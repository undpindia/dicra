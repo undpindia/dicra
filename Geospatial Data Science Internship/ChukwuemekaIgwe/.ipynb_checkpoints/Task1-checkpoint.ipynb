{
 "cells": [
  {
   "cell_type": "code",
   "execution_count": null,
   "metadata": {},
   "outputs": [],
   "source": [
    "\n",
    "import geopandas as gpd"
   ]
  },
  {
   "cell_type": "code",
   "execution_count": 1,
   "metadata": {},
   "outputs": [
    {
     "ename": "NameError",
     "evalue": "name 'gdb' is not defined",
     "output_type": "error",
     "traceback": [
      "\u001b[1;31m---------------------------------------------------------------------------\u001b[0m",
      "\u001b[1;31mNameError\u001b[0m                                 Traceback (most recent call last)",
      "\u001b[1;32mc:\\Users\\emeka\\Documents\\GitHub\\Data4Policy\\Geospatial Data Science Internship\\ChukwuemekaIgwe\\Task1.ipynb Cell 2'\u001b[0m in \u001b[0;36m<cell line: 2>\u001b[1;34m()\u001b[0m\n\u001b[0;32m      <a href='vscode-notebook-cell:/c%3A/Users/emeka/Documents/GitHub/Data4Policy/Geospatial%20Data%20Science%20Internship/ChukwuemekaIgwe/Task1.ipynb#ch0000001?line=0'>1</a>\u001b[0m url \u001b[39m=\u001b[39m \u001b[39m\"\u001b[39m\u001b[39mDatasets/gadm40_IND_3.shp\u001b[39m\u001b[39m\"\u001b[39m\n\u001b[1;32m----> <a href='vscode-notebook-cell:/c%3A/Users/emeka/Documents/GitHub/Data4Policy/Geospatial%20Data%20Science%20Internship/ChukwuemekaIgwe/Task1.ipynb#ch0000001?line=1'>2</a>\u001b[0m gadm_l3 \u001b[39m=\u001b[39m gdb\u001b[39m.\u001b[39mread_file(url)\n",
      "\u001b[1;31mNameError\u001b[0m: name 'gdb' is not defined"
     ]
    }
   ],
   "source": [
    "url = \"Datasets/gadm40_IND_3.shp\"\n",
    "gadm_l3 = gdb.read_file(url)"
   ]
  },
  {
   "cell_type": "code",
   "execution_count": null,
   "metadata": {},
   "outputs": [],
   "source": []
  }
 ],
 "metadata": {
  "interpreter": {
   "hash": "1baa965d5efe3ac65b79dfc60c0d706280b1da80fedb7760faf2759126c4f253"
  },
  "kernelspec": {
   "display_name": "Python 3",
   "language": "python",
   "name": "python3"
  },
  "language_info": {
   "codemirror_mode": {
    "name": "ipython",
    "version": 3
   },
   "file_extension": ".py",
   "mimetype": "text/x-python",
   "name": "python",
   "nbconvert_exporter": "python",
   "pygments_lexer": "ipython3",
   "version": "3.9.7"
  }
 },
 "nbformat": 4,
 "nbformat_minor": 2
}
