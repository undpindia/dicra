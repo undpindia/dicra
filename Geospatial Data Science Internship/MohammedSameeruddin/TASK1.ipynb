{
 "cells": [
  {
   "cell_type": "markdown",
   "metadata": {},
   "source": [
    "### `import` Packages"
   ]
  },
  {
   "cell_type": "code",
   "execution_count": 1,
   "metadata": {},
   "outputs": [],
   "source": [
    "import os\n",
    "import json\n",
    "\n",
    "import pandas as pd\n",
    "import numpy as np\n",
    "import geopandas as gpd\n",
    "import plotly.express as px"
   ]
  },
  {
   "cell_type": "markdown",
   "metadata": {},
   "source": [
    "### Data Reading"
   ]
  },
  {
   "cell_type": "markdown",
   "metadata": {},
   "source": [
    "The operating system is Windows 11."
   ]
  },
  {
   "cell_type": "code",
   "execution_count": 2,
   "metadata": {},
   "outputs": [],
   "source": [
    "project_path = '\\\\'.join(os.getcwd().split('\\\\')[:-1]) + '\\\\'\n",
    "dataset_path = project_path + 'Datasets' + '\\\\'"
   ]
  },
  {
   "cell_type": "markdown",
   "metadata": {},
   "source": [
    "There are two files in the folder."
   ]
  },
  {
   "cell_type": "code",
   "execution_count": 3,
   "metadata": {},
   "outputs": [
    {
     "data": {
      "text/plain": [
       "True"
      ]
     },
     "execution_count": 3,
     "metadata": {},
     "output_type": "execute_result"
    }
   ],
   "source": [
    "os.path.isdir(dataset_path)"
   ]
  },
  {
   "cell_type": "code",
   "execution_count": 4,
   "metadata": {},
   "outputs": [
    {
     "data": {
      "text/plain": [
       "['telangana_fires.csv', 'telangana_shapefile.geojson']"
      ]
     },
     "execution_count": 4,
     "metadata": {},
     "output_type": "execute_result"
    }
   ],
   "source": [
    "os.listdir(dataset_path)"
   ]
  },
  {
   "cell_type": "code",
   "execution_count": 5,
   "metadata": {},
   "outputs": [],
   "source": [
    "# CSV file\n",
    "tf_df = pd.read_csv(filepath_or_buffer=dataset_path + 'telangana_fires.csv')\n",
    "# GeoJSON file\n",
    "tf_geo = gpd.read_file(filename=dataset_path + 'telangana_shapefile.geojson')"
   ]
  },
  {
   "cell_type": "code",
   "execution_count": 6,
   "metadata": {},
   "outputs": [
    {
     "data": {
      "text/html": [
       "<div>\n",
       "<style scoped>\n",
       "    .dataframe tbody tr th:only-of-type {\n",
       "        vertical-align: middle;\n",
       "    }\n",
       "\n",
       "    .dataframe tbody tr th {\n",
       "        vertical-align: top;\n",
       "    }\n",
       "\n",
       "    .dataframe thead th {\n",
       "        text-align: right;\n",
       "    }\n",
       "</style>\n",
       "<table border=\"1\" class=\"dataframe\">\n",
       "  <thead>\n",
       "    <tr style=\"text-align: right;\">\n",
       "      <th></th>\n",
       "      <th>latitude</th>\n",
       "      <th>longitude</th>\n",
       "      <th>brightness</th>\n",
       "      <th>scan</th>\n",
       "      <th>track</th>\n",
       "      <th>acq_date</th>\n",
       "      <th>acq_time</th>\n",
       "      <th>satellite</th>\n",
       "      <th>instrument</th>\n",
       "      <th>confidence</th>\n",
       "      <th>version</th>\n",
       "      <th>bright_t31</th>\n",
       "      <th>frp</th>\n",
       "      <th>daynight</th>\n",
       "      <th>type</th>\n",
       "    </tr>\n",
       "  </thead>\n",
       "  <tbody>\n",
       "    <tr>\n",
       "      <th>0</th>\n",
       "      <td>18.3777</td>\n",
       "      <td>80.5314</td>\n",
       "      <td>318.6</td>\n",
       "      <td>1.0</td>\n",
       "      <td>1.0</td>\n",
       "      <td>2015-01-02</td>\n",
       "      <td>802</td>\n",
       "      <td>Aqua</td>\n",
       "      <td>MODIS</td>\n",
       "      <td>69</td>\n",
       "      <td>6.03</td>\n",
       "      <td>302.6</td>\n",
       "      <td>7.7</td>\n",
       "      <td>D</td>\n",
       "      <td>0</td>\n",
       "    </tr>\n",
       "    <tr>\n",
       "      <th>1</th>\n",
       "      <td>17.5898</td>\n",
       "      <td>80.9893</td>\n",
       "      <td>315.4</td>\n",
       "      <td>1.2</td>\n",
       "      <td>1.1</td>\n",
       "      <td>2015-01-04</td>\n",
       "      <td>750</td>\n",
       "      <td>Aqua</td>\n",
       "      <td>MODIS</td>\n",
       "      <td>59</td>\n",
       "      <td>6.03</td>\n",
       "      <td>299.5</td>\n",
       "      <td>8.8</td>\n",
       "      <td>D</td>\n",
       "      <td>0</td>\n",
       "    </tr>\n",
       "  </tbody>\n",
       "</table>\n",
       "</div>"
      ],
      "text/plain": [
       "   latitude  longitude  brightness  scan  track    acq_date  acq_time  \\\n",
       "0   18.3777    80.5314       318.6   1.0    1.0  2015-01-02       802   \n",
       "1   17.5898    80.9893       315.4   1.2    1.1  2015-01-04       750   \n",
       "\n",
       "  satellite instrument  confidence  version  bright_t31  frp daynight  type  \n",
       "0      Aqua      MODIS          69     6.03       302.6  7.7        D     0  \n",
       "1      Aqua      MODIS          59     6.03       299.5  8.8        D     0  "
      ]
     },
     "execution_count": 6,
     "metadata": {},
     "output_type": "execute_result"
    }
   ],
   "source": [
    "tf_df.head(2)"
   ]
  },
  {
   "cell_type": "markdown",
   "metadata": {},
   "source": [
    "The problem with the above dataset is that there is no district column with which we can solve the task. Hence we need to somehow extract the districts.\n",
    "\n",
    "For this, we need another shape that actually contains districts of Telangana."
   ]
  },
  {
   "cell_type": "markdown",
   "metadata": {},
   "source": [
    "### Telangana Level 3\n",
    "\n",
    "Source → https://gadm.org/download_country.html\n",
    "\n",
    "* Download the data from the above link.\n",
    "* Read the data using geopandas.\n",
    "* Filter the data only for Telangana.\n",
    "* Write the Telangana data into a folder.\n",
    "\n",
    "> For the record, I have already done the above steps and saved only Telangana data."
   ]
  },
  {
   "cell_type": "code",
   "execution_count": 7,
   "metadata": {},
   "outputs": [],
   "source": [
    "tf_districts = gpd.read_file(filename='telangana_adm/')\n",
    "tf_districts.columns = ['distname', 'geometry']"
   ]
  },
  {
   "cell_type": "code",
   "execution_count": 8,
   "metadata": {},
   "outputs": [
    {
     "data": {
      "text/plain": [
       "<AxesSubplot:>"
      ]
     },
     "execution_count": 8,
     "metadata": {},
     "output_type": "execute_result"
    },
    {
     "data": {
      "image/png": "[encoded data removed]",
      "text/plain": [
       "<Figure size 720x432 with 1 Axes>"
      ]
     },
     "metadata": {
      "needs_background": "light"
     },
     "output_type": "display_data"
    }
   ],
   "source": [
    "tf_districts.plot(figsize=(10, 6), alpha=0.5, edgecolor='k')"
   ]
  },
  {
   "cell_type": "markdown",
   "metadata": {},
   "source": [
    "### Convert `df` into `gdf`"
   ]
  },
  {
   "cell_type": "code",
   "execution_count": 9,
   "metadata": {},
   "outputs": [],
   "source": [
    "def df_to_gdf(df, lat_column, lon_column):\n",
    "    gdf = gpd.GeoDataFrame(df, geometry=gpd.points_from_xy(df[lon_column], df[lat_column]), crs=4326)\n",
    "    return gdf"
   ]
  },
  {
   "cell_type": "code",
   "execution_count": 10,
   "metadata": {},
   "outputs": [],
   "source": [
    "tf_gdf = df_to_gdf(df=tf_df, lat_column='latitude', lon_column='longitude')"
   ]
  },
  {
   "cell_type": "code",
   "execution_count": 11,
   "metadata": {},
   "outputs": [
    {
     "data": {
      "text/plain": [
       "geopandas.geodataframe.GeoDataFrame"
      ]
     },
     "execution_count": 11,
     "metadata": {},
     "output_type": "execute_result"
    }
   ],
   "source": [
    "type(tf_gdf)"
   ]
  },
  {
   "cell_type": "markdown",
   "metadata": {},
   "source": [
    "### Spatial Joining"
   ]
  },
  {
   "cell_type": "code",
   "execution_count": 12,
   "metadata": {},
   "outputs": [],
   "source": [
    "tf_main_gdf = gpd.sjoin(left_df=tf_gdf, right_df=tf_districts, how='right')\n",
    "\n",
    "# data organization\n",
    "tf_main_gdf.drop(columns=['index_left'], axis=1, inplace=True)\n",
    "tf_main_gdf.sort_values(by=['acq_date'], inplace=True)\n",
    "tf_main_gdf.reset_index(drop=True, inplace=True)"
   ]
  },
  {
   "cell_type": "code",
   "execution_count": 13,
   "metadata": {},
   "outputs": [
    {
     "data": {
      "text/html": [
       "<div>\n",
       "<style scoped>\n",
       "    .dataframe tbody tr th:only-of-type {\n",
       "        vertical-align: middle;\n",
       "    }\n",
       "\n",
       "    .dataframe tbody tr th {\n",
       "        vertical-align: top;\n",
       "    }\n",
       "\n",
       "    .dataframe thead th {\n",
       "        text-align: right;\n",
       "    }\n",
       "</style>\n",
       "<table border=\"1\" class=\"dataframe\">\n",
       "  <thead>\n",
       "    <tr style=\"text-align: right;\">\n",
       "      <th></th>\n",
       "      <th>latitude</th>\n",
       "      <th>longitude</th>\n",
       "      <th>brightness</th>\n",
       "      <th>scan</th>\n",
       "      <th>track</th>\n",
       "      <th>acq_date</th>\n",
       "      <th>acq_time</th>\n",
       "      <th>satellite</th>\n",
       "      <th>instrument</th>\n",
       "      <th>confidence</th>\n",
       "      <th>version</th>\n",
       "      <th>bright_t31</th>\n",
       "      <th>frp</th>\n",
       "      <th>daynight</th>\n",
       "      <th>type</th>\n",
       "      <th>distname</th>\n",
       "      <th>geometry</th>\n",
       "    </tr>\n",
       "  </thead>\n",
       "  <tbody>\n",
       "    <tr>\n",
       "      <th>0</th>\n",
       "      <td>18.3777</td>\n",
       "      <td>80.5314</td>\n",
       "      <td>318.6</td>\n",
       "      <td>1.0</td>\n",
       "      <td>1.0</td>\n",
       "      <td>2015-01-02</td>\n",
       "      <td>802</td>\n",
       "      <td>Aqua</td>\n",
       "      <td>MODIS</td>\n",
       "      <td>69</td>\n",
       "      <td>6.03</td>\n",
       "      <td>302.6</td>\n",
       "      <td>7.7</td>\n",
       "      <td>D</td>\n",
       "      <td>0</td>\n",
       "      <td>Venkatapuram</td>\n",
       "      <td>POLYGON ((80.38156 18.59360, 80.38558 18.59649...</td>\n",
       "    </tr>\n",
       "    <tr>\n",
       "      <th>1</th>\n",
       "      <td>17.5898</td>\n",
       "      <td>80.9893</td>\n",
       "      <td>315.4</td>\n",
       "      <td>1.2</td>\n",
       "      <td>1.1</td>\n",
       "      <td>2015-01-04</td>\n",
       "      <td>750</td>\n",
       "      <td>Aqua</td>\n",
       "      <td>MODIS</td>\n",
       "      <td>59</td>\n",
       "      <td>6.03</td>\n",
       "      <td>299.5</td>\n",
       "      <td>8.8</td>\n",
       "      <td>D</td>\n",
       "      <td>0</td>\n",
       "      <td>Borgampad</td>\n",
       "      <td>POLYGON ((81.49374 17.46600, 81.49586 17.46037...</td>\n",
       "    </tr>\n",
       "  </tbody>\n",
       "</table>\n",
       "</div>"
      ],
      "text/plain": [
       "   latitude  longitude  brightness  scan  track    acq_date  acq_time  \\\n",
       "0   18.3777    80.5314       318.6   1.0    1.0  2015-01-02       802   \n",
       "1   17.5898    80.9893       315.4   1.2    1.1  2015-01-04       750   \n",
       "\n",
       "  satellite instrument  confidence  version  bright_t31  frp daynight  type  \\\n",
       "0      Aqua      MODIS          69     6.03       302.6  7.7        D     0   \n",
       "1      Aqua      MODIS          59     6.03       299.5  8.8        D     0   \n",
       "\n",
       "       distname                                           geometry  \n",
       "0  Venkatapuram  POLYGON ((80.38156 18.59360, 80.38558 18.59649...  \n",
       "1     Borgampad  POLYGON ((81.49374 17.46600, 81.49586 17.46037...  "
      ]
     },
     "execution_count": 13,
     "metadata": {},
     "output_type": "execute_result"
    }
   ],
   "source": [
    "tf_main_gdf.head(2)"
   ]
  },
  {
   "cell_type": "markdown",
   "metadata": {},
   "source": [
    "### Extract `year`"
   ]
  },
  {
   "cell_type": "code",
   "execution_count": 14,
   "metadata": {},
   "outputs": [],
   "source": [
    "def extract_year(date):\n",
    "    date = str(date)\n",
    "    year = int(date.split('-')[0])\n",
    "    return year\n",
    "\n",
    "tf_main_gdf['year'] = tf_main_gdf['acq_date'].apply(func=extract_year)"
   ]
  },
  {
   "cell_type": "markdown",
   "metadata": {},
   "source": [
    "### `gdf` to `JSON`"
   ]
  },
  {
   "cell_type": "code",
   "execution_count": 15,
   "metadata": {},
   "outputs": [],
   "source": [
    "years = list(tf_main_gdf['year'].unique())\n",
    "districts = list(tf_main_gdf['distname'].unique())"
   ]
  },
  {
   "cell_type": "code",
   "execution_count": 16,
   "metadata": {},
   "outputs": [],
   "source": [
    "def get_count(gdf, year, distname):\n",
    "    gdf = gdf[gdf['year'] == year]\n",
    "    gdf = gdf[gdf['distname'] == distname]\n",
    "    return gdf.shape[0]"
   ]
  },
  {
   "cell_type": "markdown",
   "metadata": {},
   "source": [
    "### Writing into File"
   ]
  },
  {
   "cell_type": "code",
   "execution_count": 17,
   "metadata": {},
   "outputs": [],
   "source": [
    "def get_JSON(gdf, year_list, district_list, write_to_file=True):    \n",
    "    if write_to_file:        \n",
    "        file_name = 'output1.json'\n",
    "        \n",
    "        if not os.path.isfile(path=file_name):\n",
    "            telangana_fdata = {}\n",
    "    \n",
    "            for year in year_list:\n",
    "\n",
    "                years_based = []\n",
    "                for distname in district_list:\n",
    "                    ydc = get_count(gdf=gdf, year=year, distname=distname)\n",
    "                    jd = {\n",
    "                        'district' : distname,\n",
    "                        'fireCount' : ydc\n",
    "                    }\n",
    "                    years_based.append(jd)\n",
    "\n",
    "                telangana_fdata[str(year)] = years_based\n",
    "\n",
    "            json_data = {\n",
    "                'Telangana' : telangana_fdata\n",
    "            }\n",
    "            \n",
    "            with open(file=file_name, mode='w', encoding='utf-8') as f:\n",
    "                json.dump(json_data, f, ensure_ascii=False, indent=2)\n",
    "            print('Please check your working directory. The file is saved successfully.')\n",
    "        \n",
    "        else:\n",
    "            print('Data already exists in the working directory.')\n",
    "        \n",
    "        return None\n",
    "    \n",
    "    return None"
   ]
  },
  {
   "cell_type": "markdown",
   "metadata": {},
   "source": [
    "### Read File"
   ]
  },
  {
   "cell_type": "code",
   "execution_count": 18,
   "metadata": {},
   "outputs": [
    {
     "name": "stdout",
     "output_type": "stream",
     "text": [
      "Data already exists in the working directory\n"
     ]
    }
   ],
   "source": [
    "file_name = 'output1.json'\n",
    "if not os.path.isfile(path=file_name):\n",
    "    # call the function\n",
    "    get_JSON(\n",
    "        gdf=tf_main_gdf, year_list=years, district_list=districts\n",
    "    )\n",
    "    # read the file\n",
    "    with open(file=file_name, mode='r', encoding='utf-8') as f:\n",
    "        telangana_data = json.load(fp=f)\n",
    "else:\n",
    "    print('Data already exists in the working directory')\n",
    "    with open(file=file_name, mode='r', encoding='utf-8') as f:\n",
    "        telangana_data = json.load(fp=f)"
   ]
  },
  {
   "cell_type": "markdown",
   "metadata": {},
   "source": [
    "### 2015"
   ]
  },
  {
   "cell_type": "code",
   "execution_count": 19,
   "metadata": {
    "scrolled": false
   },
   "outputs": [
    {
     "data": {
      "text/plain": [
       "[{'district': 'Venkatapuram', 'fireCount': 182},\n",
       " {'district': 'Borgampad', 'fireCount': 98},\n",
       " {'district': 'Yellandu', 'fireCount': 210},\n",
       " {'district': 'Bhadrachalam', 'fireCount': 60},\n",
       " {'district': 'Nirmal', 'fireCount': 46},\n",
       " {'district': 'Sultanabad', 'fireCount': 21},\n",
       " {'district': 'Madhira', 'fireCount': 17},\n",
       " {'district': 'Banswada', 'fireCount': 24},\n",
       " {'district': 'Huzurnagar', 'fireCount': 8},\n",
       " {'district': 'Achampet', 'fireCount': 138},\n",
       " {'district': 'Mulug', 'fireCount': 218},\n",
       " {'district': 'Manthani', 'fireCount': 104},\n",
       " {'district': 'Siddipet', 'fireCount': 7},\n",
       " {'district': 'Narsampet', 'fireCount': 135},\n",
       " {'district': 'Parkal', 'fireCount': 30},\n",
       " {'district': 'Bodhan', 'fireCount': 40},\n",
       " {'district': 'Metpalli', 'fireCount': 27},\n",
       " {'district': 'Mahbubnagar', 'fireCount': 7},\n",
       " {'district': 'Kottagudem', 'fireCount': 95},\n",
       " {'district': 'Nizamabad', 'fireCount': 38},\n",
       " {'district': 'Narsapur', 'fireCount': 8},\n",
       " {'district': 'Sangareddi', 'fireCount': 14},\n",
       " {'district': 'Jangaon', 'fireCount': 11},\n",
       " {'district': 'Medak', 'fireCount': 11},\n",
       " {'district': 'Kalwakurti', 'fireCount': 4},\n",
       " {'district': 'Narayankher', 'fireCount': 2},\n",
       " {'district': 'Khammam', 'fireCount': 22},\n",
       " {'district': 'Farooq Nagar', 'fireCount': 4},\n",
       " {'district': 'Madnur', 'fireCount': 5},\n",
       " {'district': 'Khanapur', 'fireCount': 110},\n",
       " {'district': 'Jogipet', 'fireCount': 15},\n",
       " {'district': 'Jagtial', 'fireCount': 49},\n",
       " {'district': 'Kolhapur', 'fireCount': 16},\n",
       " {'district': 'Wanparthy', 'fireCount': 8},\n",
       " {'district': 'n.a. ( 1711)', 'fireCount': 5},\n",
       " {'district': 'Armur', 'fireCount': 43},\n",
       " {'district': 'Tandur', 'fireCount': 6},\n",
       " {'district': 'Kamareddy', 'fireCount': 12},\n",
       " {'district': 'Utnur', 'fireCount': 21},\n",
       " {'district': 'Vikarabad', 'fireCount': 8},\n",
       " {'district': 'Ibrahimpatan', 'fireCount': 5},\n",
       " {'district': 'Bhongir', 'fireCount': 1},\n",
       " {'district': 'Chevella', 'fireCount': 4},\n",
       " {'district': 'Yellareddi', 'fireCount': 9},\n",
       " {'district': 'Pargi', 'fireCount': 6},\n",
       " {'district': 'Karimnagar', 'fireCount': 5},\n",
       " {'district': 'Nalgonda', 'fireCount': 2},\n",
       " {'district': 'Sirsilla', 'fireCount': 25},\n",
       " {'district': 'Ramannapet', 'fireCount': 6},\n",
       " {'district': 'Nagar Karnul', 'fireCount': 7},\n",
       " {'district': 'Hanmakonda', 'fireCount': 9},\n",
       " {'district': 'Zahirabad', 'fireCount': 5},\n",
       " {'district': 'Mudhol', 'fireCount': 4},\n",
       " {'district': 'Asifabad', 'fireCount': 15},\n",
       " {'district': 'Laxettipet', 'fireCount': 24},\n",
       " {'district': 'n.a. ( 1728)', 'fireCount': 8},\n",
       " {'district': 'Alampur', 'fireCount': 6},\n",
       " {'district': 'Sirpur', 'fireCount': 20},\n",
       " {'district': 'Chinnur', 'fireCount': 27},\n",
       " {'district': 'Boath', 'fireCount': 7},\n",
       " {'district': 'Makhtal', 'fireCount': 3},\n",
       " {'district': 'Medchal', 'fireCount': 5},\n",
       " {'district': 'Suriapet', 'fireCount': 3},\n",
       " {'district': 'Huzurabad', 'fireCount': 8},\n",
       " {'district': 'Atamkur', 'fireCount': 4},\n",
       " {'district': 'Mirialguda', 'fireCount': 10},\n",
       " {'district': 'Gajwel', 'fireCount': 6},\n",
       " {'district': 'Devarkonda', 'fireCount': 2},\n",
       " {'district': 'Hyderabad', 'fireCount': 1},\n",
       " {'district': 'Adilabad', 'fireCount': 2},\n",
       " {'district': 'Gadwal', 'fireCount': 0},\n",
       " {'district': 'Korangal', 'fireCount': 0}]"
      ]
     },
     "execution_count": 19,
     "metadata": {},
     "output_type": "execute_result"
    }
   ],
   "source": [
    "telangana_data['Telangana']['2015']"
   ]
  },
  {
   "cell_type": "markdown",
   "metadata": {},
   "source": [
    "To view the entire data, please check `output1.json` file."
   ]
  },
  {
   "cell_type": "markdown",
   "metadata": {},
   "source": [
    "### Choropleth Visualization"
   ]
  },
  {
   "cell_type": "code",
   "execution_count": 20,
   "metadata": {},
   "outputs": [],
   "source": [
    "def plot_choropleth(gdf, geo_gdf):\n",
    "    df = gdf.groupby(by=['year', 'distname']).count().reset_index()\n",
    "    df = df[['year', 'distname', 'frp']]\n",
    "    df.columns = ['year', 'district', 'fire_cases']\n",
    "    \n",
    "    # telangana latitude and longitude\n",
    "    clat = 18.1124\n",
    "    clon = 79.0193\n",
    "    \n",
    "    # figure plot\n",
    "    fig = px.choropleth_mapbox(\n",
    "        data_frame=df,\n",
    "        geojson=geo_gdf.__geo_interface__,\n",
    "        locations='district',\n",
    "        color='fire_cases',\n",
    "        featureidkey='properties.distname',\n",
    "        mapbox_style='carto-positron',\n",
    "        color_continuous_scale='reds',\n",
    "        center=dict(lat=clat, lon=clon),\n",
    "        zoom=6,\n",
    "        animation_frame='year',\n",
    "    )\n",
    "    \n",
    "    # figure layout\n",
    "    fig.update_layout(\n",
    "        autosize=True,\n",
    "        height=600,\n",
    "        hovermode='closest',\n",
    "        showlegend=False,\n",
    "        margin=dict(l=10, r=10, t=30, b=0)\n",
    "    )\n",
    "    fig.layout.updatemenus[0].buttons[0].args[1]['frame']['duration'] = 500\n",
    "    fig.layout.updatemenus[0].buttons[0].args[1]['transition']['duration'] = 5\n",
    "    \n",
    "    fig.show()\n",
    "    \n",
    "    return None"
   ]
  },
  {
   "cell_type": "markdown",
   "metadata": {},
   "source": [
    "#### Animation Plot\n",
    "\n",
    "* Open this [link](https://user-images.githubusercontent.com/63333753/158045636-ec586ca0-60f4-4d05-bf68-fd52a5a6fa54.gif) to view the GIF."
   ]
  },
  {
   "cell_type": "code",
   "execution_count": 21,
   "metadata": {},
   "outputs": [],
   "source": [
    "# plot_choropleth(gdf=tf_main_gdf, geo_gdf=tf_districts)"
   ]
  },
  {
   "cell_type": "markdown",
   "metadata": {},
   "source": [
    "<img src=\"https://user-images.githubusercontent.com/63333753/158045636-ec586ca0-60f4-4d05-bf68-fd52a5a6fa54.gif\">"
   ]
  },
  {
   "cell_type": "markdown",
   "metadata": {},
   "source": [
    "### Geo-Density Visualization"
   ]
  },
  {
   "cell_type": "code",
   "execution_count": 22,
   "metadata": {},
   "outputs": [],
   "source": [
    "def plot_geodensity(gdf):\n",
    "    df = gdf[['year', 'latitude', 'frp', 'longitude']]\n",
    "    \n",
    "    # telangana latitude and longitude\n",
    "    clat = 18.1124\n",
    "    clon = 79.0193\n",
    "    \n",
    "    # figure plot\n",
    "    fig = px.density_mapbox(\n",
    "        data_frame=df,\n",
    "        lat='latitude',\n",
    "        lon='longitude',\n",
    "        z='frp',\n",
    "        radius=12,\n",
    "        center=dict(lat=clat, lon=clon),\n",
    "        mapbox_style='carto-positron',\n",
    "        color_continuous_scale='viridis',\n",
    "        zoom=6,\n",
    "        animation_frame='year',\n",
    "    )\n",
    "    \n",
    "    # figure layout\n",
    "    fig.update_layout(\n",
    "        autosize=True,\n",
    "        height=600,\n",
    "        hovermode='closest',\n",
    "        showlegend=False,\n",
    "        margin=dict(l=10, r=10, t=30, b=0)\n",
    "    )\n",
    "    fig.layout.updatemenus[0].buttons[0].args[1]['frame']['duration'] = 500\n",
    "    fig.layout.updatemenus[0].buttons[0].args[1]['transition']['duration'] = 5\n",
    "    \n",
    "    fig.show()\n",
    "    \n",
    "    return None"
   ]
  },
  {
   "cell_type": "markdown",
   "metadata": {},
   "source": [
    "#### Animation Plot\n",
    "\n",
    "* Open this [link](https://user-images.githubusercontent.com/63333753/158045781-45463dc7-b810-4dd7-9f6c-f1a8f82c4f18.gif) to view the GIF."
   ]
  },
  {
   "cell_type": "code",
   "execution_count": 23,
   "metadata": {},
   "outputs": [],
   "source": [
    "# plot_geodensity(gdf=tf_main_gdf)"
   ]
  },
  {
   "cell_type": "markdown",
   "metadata": {},
   "source": [
    "<img src=\"https://user-images.githubusercontent.com/63333753/158045781-45463dc7-b810-4dd7-9f6c-f1a8f82c4f18.gif\">"
   ]
  },
  {
   "cell_type": "markdown",
   "metadata": {},
   "source": [
    "### EoF"
   ]
  }
 ],
 "metadata": {
  "kernelspec": {
   "display_name": "Python 3 (ipykernel)",
   "language": "python",
   "name": "python3"
  },
  "language_info": {
   "codemirror_mode": {
    "name": "ipython",
    "version": 3
   },
   "file_extension": ".py",
   "mimetype": "text/x-python",
   "name": "python",
   "nbconvert_exporter": "python",
   "pygments_lexer": "ipython3",
   "version": "3.8.4"
  },
  "varInspector": {
   "cols": {
    "lenName": 16,
    "lenType": 16,
    "lenVar": 40
   },
   "kernels_config": {
    "python": {
     "delete_cmd_postfix": "",
     "delete_cmd_prefix": "del ",
     "library": "var_list.py",
     "varRefreshCmd": "print(var_dic_list())"
    },
    "r": {
     "delete_cmd_postfix": ") ",
     "delete_cmd_prefix": "rm(",
     "library": "var_list.r",
     "varRefreshCmd": "cat(var_dic_list()) "
    }
   },
   "types_to_exclude": [
    "module",
    "function",
    "builtin_function_or_method",
    "instance",
    "_Feature"
   ],
   "window_display": false
  }
 },
 "nbformat": 4,
 "nbformat_minor": 4
}
