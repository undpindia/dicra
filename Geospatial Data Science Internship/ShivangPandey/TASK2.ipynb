{
 "cells": [
  {
   "cell_type": "markdown",
   "id": "873b6c76",
   "metadata": {
    "id": "rdFbGw4OA6q1"
   },
   "source": [
    "# TASK-2\n",
    "\n",
    "The task is to create a JSON output that gives the probability of a fire being caused by agricultural practices.\n",
    "The JSON output should include the following keys - fireID, probability<br>\n",
    "\n",
    "First, all necessary libraries have to be installed like pandas, geopandas, rasterio, and rasterstats<br>\n",
    "pandas: This library can be used for converting a set of data into a data frame and doing necessary operations on them.<br>\n",
    "geopandas: This library can be used as pandas for spatial data and for their visualization <br>\n",
    "rasterio: To do operations on raster datasets.<br>\n",
    "rasterstats: For summarizing geospatial raster datasets based on vector geometries. It includes functions for zonal statistics and interpolated point queries.<br> \n",
    "<br>\n"
   ]
  },
  {
   "cell_type": "code",
   "execution_count": null,
   "id": "fcec5341",
   "metadata": {},
   "outputs": [],
   "source": [
    "#install dependent libraries\n",
    "\n",
    "!pip install geopandas\n",
    "!pip install rasterio\n",
    "!pip install rasterstats"
   ]
  },
  {
   "cell_type": "markdown",
   "id": "632b0224",
   "metadata": {},
   "source": [
    "## Importing Libraries\n",
    "geopandas and pandas are imported as gpd and pd respectively to use their functions with short forms. <br>\n",
    "rasterio and rasterstats have been imported for raster analysis. zonal_stats of rasterstats is imported to get statistics of raster within a given polygon and plot of rasterio shows is imported for visualization."
   ]
  },
  {
   "cell_type": "code",
   "execution_count": null,
   "id": "ab669818",
   "metadata": {
    "executionInfo": {
     "elapsed": 1082,
     "status": "ok",
     "timestamp": 1646986416650,
     "user": {
      "displayName": "Shivang Pandey",
      "photoUrl": "https://lh3.googleusercontent.com/a-/AOh14Ghcuw4QK3NL6bdbVpWe3vKu-Tr2lMCm2-IlZkPN=s64",
      "userId": "06979323684164181966"
     },
     "user_tz": -330
    },
    "id": "ab669818"
   },
   "outputs": [],
   "source": [
    "import geopandas as gpd\n",
    "import pandas as pd\n",
    "\n",
    "import rasterio\n",
    "from rasterstats import zonal_stats\n",
    "from rasterio.plot import show\n"
   ]
  },
  {
   "cell_type": "code",
   "execution_count": null,
   "id": "quDZW_qGC-7Q",
   "metadata": {
    "id": "quDZW_qGC-7Q"
   },
   "outputs": [],
   "source": [
    "#---------------------THIS PART IS USED TO WORK FROM DRIVE---------------#\n",
    "#from google.colab import drive\n",
    "#drive.mount('/content/drive/')\n",
    "\n",
    "#import os\n",
    "#os.chdir(r'/content/drive/MyDrive/undp')"
   ]
  },
  {
   "cell_type": "markdown",
   "id": "1ed86702",
   "metadata": {},
   "source": [
    "## Creating DataFrame with given datasets\n",
    "\n",
    "As fire_points are read as comma-separated values, we have to assign latitude and longitude values to use as a geodataframe. We will create a pandas data frame _'fire_points'_ and extract the longitude and latitude column from it. Further, we will assign geometry to each point using its longitude, latitude values in the new geodataframe _'newdf'_.<br>\n",
    "_'dist.shp'_ is also been read to get shapefile information according to administrative boundaries."
   ]
  },
  {
   "cell_type": "code",
   "execution_count": null,
   "id": "196f733f",
   "metadata": {
    "executionInfo": {
     "elapsed": 1062,
     "status": "ok",
     "timestamp": 1646993728069,
     "user": {
      "displayName": "Shivang Pandey",
      "photoUrl": "https://lh3.googleusercontent.com/a-/AOh14Ghcuw4QK3NL6bdbVpWe3vKu-Tr2lMCm2-IlZkPN=s64",
      "userId": "06979323684164181966"
     },
     "user_tz": -330
    },
    "id": "196f733f"
   },
   "outputs": [],
   "source": [
    "#get fire points in pandas dataframe\n",
    "fire_points = pd.read_csv('telangana_fires.csv')\n",
    "\n",
    "#create GeoDataFrame using latitute longitude values\n",
    "newdf = gpd.GeoDataFrame(fire_points,\n",
    "                         geometry=gpd.points_from_xy(fire_points.longitude,\n",
    "                                                    fire_points.latitude)) \n",
    "\n",
    "state = gpd.read_file('dist.shp')                             #read state shapefile as GeoDataFrame\n",
    "base = state.plot(color='white', edgecolor='black')           #make Telangana map as basemap\n",
    "newdf.plot(ax=base, marker='o', color='red', markersize=5);   # plot fire points on Telanagana state map"
   ]
  },
  {
   "cell_type": "markdown",
   "id": "9b684742",
   "metadata": {},
   "source": [
    "Now we have to create polygons to get the probability of fire point having in an agricultural class. As given fire point data is prepared using MODIS Thermal Anomalies & Fire Daily data, we will be taking a resolution of 1km of one pixel.\n",
    "\n",
    "So, the buffer function of geopandas (based on the shapely library) is to create a buffer polygon around a point. The first parameter of the buffer is to tell length in the degree to mark the point in a square pixel and 'cap_style' to tell the type of polygon. here _'cap_style = 3'_ means square polygon for buffer point. Later, we will be changing the geometry of the geodataframe from point to polygon and will dump it in a new shapefile named as _'fire_polygon.shp'_."
   ]
  },
  {
   "cell_type": "code",
   "execution_count": null,
   "id": "727969f3",
   "metadata": {
    "executionInfo": {
     "elapsed": 1037,
     "status": "ok",
     "timestamp": 1646986755865,
     "user": {
      "displayName": "Shivang Pandey",
      "photoUrl": "https://lh3.googleusercontent.com/a-/AOh14Ghcuw4QK3NL6bdbVpWe3vKu-Tr2lMCm2-IlZkPN=s64",
      "userId": "06979323684164181966"
     },
     "user_tz": -330
    },
    "id": "727969f3"
   },
   "outputs": [],
   "source": [
    "polygons = []\n",
    "\n",
    "#-------create a buffer of square of 1km size using buffer function from shapely-----#\n",
    "for i in newdf.geometry:\n",
    "    p1 = i\n",
    "    buffer = p1.buffer(0.004504505, cap_style = 3)         #500m = 0.004504505 and cap_style 3 is square box of same of 1km side length\n",
    "    polygons.append(buffer)\n",
    "\n",
    "#create a new column in GeoDataFrame newdf and dump polygon buffer of respective point values\n",
    "newdf['geometry'] = polygons\n",
    "\n",
    "#dump mulyipolygon data to a shapefile for visualization later\n",
    "newdf.to_file('fire_polygon.shp', crs=4326)     "
   ]
  },
  {
   "cell_type": "markdown",
   "id": "09c7b5ce",
   "metadata": {},
   "source": [
    "## Reading tiff files of esri LULC 10m resolution maps\n",
    "\n",
    "Here, we have to use the esri LULC map of 10m resolution to show agricultural class also known as _crop class_ in given LULC maps. <br><br>\n",
    "The LULC maps are available from the year 2017 to 2021 but we will be using only 2021 for this model as it will be easier to import because georeferenced files can be big as much as 6GB for a single tile and the Telangana region covers at least Four tiles in given esri LULC maps. <br>\n",
    "We can use these tiff files in two ways, either use each tiff file or mosaic them as one. <br> For both cases, logic is given here! <br><br> All four tiff files named as _tiff1.tif, tiff2.tif, tiff3.tif and tiff4.tif_ and mosaiced one using _ERDAS Imagine software_ named as _vmcx_mosiac_reprj.tif_. <br> Georeferencing of these files is done on open source _QGIS_ software. <br>\n",
    "All tiff files are collected in a list named _'tiff_files_' and mosaic named as _' tiff'_."
   ]
  },
  {
   "cell_type": "code",
   "execution_count": null,
   "id": "d0b72194",
   "metadata": {
    "executionInfo": {
     "elapsed": 383,
     "status": "ok",
     "timestamp": 1646990933179,
     "user": {
      "displayName": "Shivang Pandey",
      "photoUrl": "https://lh3.googleusercontent.com/a-/AOh14Ghcuw4QK3NL6bdbVpWe3vKu-Tr2lMCm2-IlZkPN=s64",
      "userId": "06979323684164181966"
     },
     "user_tz": -330
    },
    "id": "d0b72194"
   },
   "outputs": [],
   "source": [
    "# taking four tiff files of esri which including Telangana state area \n",
    "tiff_files = ['tiff1.tif', 'tiff2.tif', 'tiff3.tif', 'tiff4.tif']    \n",
    "#single mosaic image of esri lulc tifs which contains Telangana state area\n",
    "tiff = 'vmcx_mosiac_reprj.tif'          "
   ]
  },
  {
   "cell_type": "markdown",
   "id": "6da5bb8e",
   "metadata": {},
   "source": [
    "## Reading fire polygon shapefile\n",
    "A new column has been created named as _'index'_ to get assign _'fire_ID'_ to each point (now Polygon)"
   ]
  },
  {
   "cell_type": "code",
   "execution_count": null,
   "id": "74ce2d18",
   "metadata": {
    "executionInfo": {
     "elapsed": 3066,
     "status": "ok",
     "timestamp": 1646990904130,
     "user": {
      "displayName": "Shivang Pandey",
      "photoUrl": "https://lh3.googleusercontent.com/a-/AOh14Ghcuw4QK3NL6bdbVpWe3vKu-Tr2lMCm2-IlZkPN=s64",
      "userId": "06979323684164181966"
     },
     "user_tz": -330
    },
    "id": "74ce2d18"
   },
   "outputs": [],
   "source": [
    "#reading multi-polygon shapefile\n",
    "data = gpd.read_file(\"fire_polygon.shp\")\n",
    "\n",
    "#giving fire points and ID as per their index value\n",
    "data['index']=data.index   "
   ]
  },
  {
   "cell_type": "markdown",
   "id": "3b3bfddf",
   "metadata": {},
   "source": [
    "## Calculating Probabilty\n",
    "I know still one question is unanswered yet. Why a polygon of a point??!! <br><br>\n",
    "So MODIS Thermal Anomalies & Fire Daily data is calculated on 1km resolution and given esri LULC data is at 10m resolution and we can say it like that 1 pixel of MODIS fire data should be as big as 10000 pixels of LULC map.<br> How we are going to use that? by creating a polygon as a size of 10000 pixels of LULC map. <br><br>\n",
    "So how it is going to help us in calculating probability? <br> 10000 pixels of LULC can have pixels of all classes. We just have to take the ratio of the number of pixels of crop class which is 5 and the total number of pixels within polygon:<br>\n",
    "P(A) = No. of crop class(5) pixels / Total no. of pixels<br><br>\n",
    "A number of pixels of all classes and a total number of probability can be obtained from _'rasterstats'_ library's _'zonal_stats'_ function. <br> We can iterate the calculation of each and every pixel and append a list of _'fireID'_ and _' probability_ ."
   ]
  },
  {
   "cell_type": "markdown",
   "id": "6ba95f2b",
   "metadata": {},
   "source": [
    "The first snippet here is showing how to iterate both tiff files and fire polygons calculating fire probability from it.<br>\n",
    "We have used a timer here to check how much time is going to take to run.\n",
    "\n"
   ]
  },
  {
   "cell_type": "markdown",
   "id": "0156b864",
   "metadata": {},
   "source": [
    "#### NOTE: AS INDIVIDUAL GEOTIFF FILES ARE LARGE IN SIZE (>5Gb), THIS STEP AVOIDED AND MOSAIC GEOTIFF FILE HAS BEEN USED FOR RASTER CALCULATIONS"
   ]
  },
  {
   "cell_type": "code",
   "execution_count": null,
   "id": "5c69a645",
   "metadata": {
    "colab": {
     "base_uri": "https://localhost:8080/"
    },
    "executionInfo": {
     "elapsed": 2490266,
     "status": "ok",
     "timestamp": 1646989515266,
     "user": {
      "displayName": "Shivang Pandey",
      "photoUrl": "https://lh3.googleusercontent.com/a-/AOh14Ghcuw4QK3NL6bdbVpWe3vKu-Tr2lMCm2-IlZkPN=s64",
      "userId": "06979323684164181966"
     },
     "user_tz": -330
    },
    "id": "5c69a645",
    "outputId": "ae8650ff-0205-48b5-f293-8794ee924e05"
   },
   "outputs": [],
   "source": [
    "'''\n",
    "#------------------Checking probability in tiff file list----------------------#\n",
    "import time                                   #to calculate time taken to run the model\n",
    "start_time = time.time()                      #start time of the program\n",
    "\n",
    "index_list = []                               #declaring empty to get corresponding id of fire point\n",
    "prob_list = []                                #empty list to store probability of corresponding fire points based polygon\n",
    "for tiff in tiff_files:\n",
    "    \n",
    "    for j in range(len(data)):                #iterating all rows of dataframe to get polygon info\n",
    "\n",
    "        stats = zonal_stats(data.iloc[j].geometry, tiff, stats=\"*\", categorical=True)         #getting statistics from the raster within the polygon \n",
    "        i = stats[0]                                                                          #storing statsistical dictionary in a value\n",
    "        if i['count'] != 0:                                                                   #check if polygon is within the tiff file or not\n",
    "            index = data.iloc[j]['index']                                                     #get id of polygon\n",
    "            index_list.append(index)                                                          #store id in a list\n",
    "            if 5 in i:                                                                        #check if crop class is in polygon region or not\n",
    "                prob = i[5]/i['count']                                                        #calculate probabilty of fire in crop field\n",
    "            else:\n",
    "                prob = 0                                                                      # if crop class is not in polygon, return 0 pixels\n",
    "            prob_list.append(prob)                                                            #store probability in a list\n",
    "            \n",
    "            \n",
    "print(\"--- %s seconds ---\" % (time.time() - start_time))                                      #print total time taken to run code\n",
    "\n",
    "'''"
   ]
  },
  {
   "cell_type": "markdown",
   "id": "cb24fd49",
   "metadata": {},
   "source": [
    "This second snippet here is showing how to iterate only fire polygons and calculate fire probability using Mosiac tiff.<br> We have used a timer here to check how much time is going to take to run.\n",
    "\n",
    "NOTE: Ignore the warning which is coming because of no information of one pixel due to change in projection"
   ]
  },
  {
   "cell_type": "code",
   "execution_count": null,
   "id": "w6_IWCq7TdVu",
   "metadata": {
    "id": "w6_IWCq7TdVu"
   },
   "outputs": [],
   "source": [
    "#------------------Checking probability in mosaic tiff file----------------------#\n",
    "import time                                      #to calculate time taken to run the model\n",
    "start_time = time.time()                         #start time of the program\n",
    "\n",
    "index_list = []                               #declaring empty to get corresponding id of fire point\n",
    "prob_list = []                                #empty list to store probability of corresponding fire points based polygon\n",
    "    \n",
    "for j in range(len(data)):                #iterating all rows of dataframe to get polygon info\n",
    "\n",
    "    stats = zonal_stats(data.iloc[j].geometry, tiff, stats=\"*\", categorical=True)         #getting statistics from the raster within the polygon \n",
    "    i = stats[0]                                                                          #storing statsistical dictionary in a value\n",
    "    if i['count'] != 0:                                                                   #check if polygon is within the tiff file or not\n",
    "        index = data.iloc[j]['index']                                                     #get id of polygon\n",
    "        index_list.append(index)                                                          #store id in a list\n",
    "        if 5 in i:                                                                        #check if crop class is in polygon region or not\n",
    "            prob = i[5]/i['count']                                                        #calculate probabilty of fire in crop field\n",
    "        else:\n",
    "            prob = 0                                                                      # if crop class is not in polygon, return 0 pixels\n",
    "        prob_list.append(prob)                                                            #store probability in a list\n",
    "        \n",
    "print(\"--- %s seconds ---\" % (time.time() - start_time))                                  #print total time taken to run code "
   ]
  },
  {
   "cell_type": "markdown",
   "id": "089d2473",
   "metadata": {},
   "source": [
    "## Making JSON file\n",
    "Code for mosaic tif file took less time than the previous one because of single iteration takes less Big O notation as compared to multiple iterations. <br><br> Also, multiple files' results can give overlapping fire points but that can be eliminated while simply making a dictionary from it. <br><br>\n",
    "We can dump both ID and probability lits into a dictionary which can be read as data frame later to dump data into JSON file _'output2.json'_ including the following keys - fireID, probability<br>\n",
    "<br>"
   ]
  },
  {
   "cell_type": "code",
   "execution_count": null,
   "id": "fefc1d9e",
   "metadata": {
    "executionInfo": {
     "elapsed": 427,
     "status": "ok",
     "timestamp": 1646998799160,
     "user": {
      "displayName": "Shivang Pandey",
      "photoUrl": "https://lh3.googleusercontent.com/a-/AOh14Ghcuw4QK3NL6bdbVpWe3vKu-Tr2lMCm2-IlZkPN=s64",
      "userId": "06979323684164181966"
     },
     "user_tz": -330
    },
    "id": "fefc1d9e"
   },
   "outputs": [],
   "source": [
    "#dictionary created wth fireID and probability\n",
    "id_prob = {key: value for key, value in zip(index_list, prob_list)}\n",
    "\n",
    "#creating tuple of each key and  value pair\n",
    "data_items = id_prob.items()                                                \n",
    "#dumping all tuples in a list\n",
    "data_list = list(data_items)\n",
    "\n",
    "#creating DataFrame with id and probability values\n",
    "prob_df = pd.DataFrame(data_list, columns= ['fireID','probability'])\n",
    "#dumping to json file\n",
    "prob_df = prob_df.to_json('output2.json', orient=\"records\", lines=True)  "
   ]
  },
  {
   "cell_type": "markdown",
   "id": "d87fa61a",
   "metadata": {
    "id": "d87fa61a"
   },
   "source": [
    "One more parameter that can be included as a calculating probability is known as _'confidence_' value of fire points and it is given as a column in MODIS data. <br><br> Confidence value of point tells what is the probability that point is detected as a thermal anomaly as a whole using satellite sensor data. And our probability value is the telling ratio of the number of pixels of all classes and the total number of probability.<br><br>\n",
    "Both are independent of each other hence condition for mutually exclusive events will hold true here.<br><br>\n",
    "P(A∩B) = P(A) · P(B) where, <br>P(A) is probabilty of pixel to be crop field and,<br> P(B) is confidence value of that particular fire point.<br><br>\n",
    "P(A∩B) is telling the true probability of fire points. <br><br>\n",
    "NOTE: Only ratio of pixels has been dumped into _'output2.json'_ to reduce the complexity of model but code for true probability is given below:"
   ]
  },
  {
   "cell_type": "code",
   "execution_count": null,
   "id": "3eba9253",
   "metadata": {
    "executionInfo": {
     "elapsed": 1468,
     "status": "ok",
     "timestamp": 1646990684210,
     "user": {
      "displayName": "Shivang Pandey",
      "photoUrl": "https://lh3.googleusercontent.com/a-/AOh14Ghcuw4QK3NL6bdbVpWe3vKu-Tr2lMCm2-IlZkPN=s64",
      "userId": "06979323684164181966"
     },
     "user_tz": -330
    },
    "id": "3eba9253"
   },
   "outputs": [],
   "source": [
    "#taking confidence values of points in list  \n",
    "confidence = list(data[\"confidence\"])                                       \n",
    "#calculating total probability\n",
    "true_prob = [(confidence[i]/100) * prob_list[i] for i in range(len(confidence))]      \n",
    "#ziping fire ID and true probabilty in a dictionary\n",
    "id_true_prob = {key: value for key, value in zip(index_list, true_prob)}\n",
    "\n",
    "#creating tuple of each key and  value pair\n",
    "data_items = id_true_prob.items()                                                \n",
    "#dumping all tuples in a list\n",
    "data_list = list(data_items)\n",
    "\n",
    "#dumping to json file\n",
    "\n",
    "#-------------NOT USING THIS LINE TO REDUCE COMPLEXLITY IN UNDERSTANDING OF THE MODEL --------#\n",
    "\n",
    "#id_true_prob = id_true_prob.to_json('output2.json', orient=\"records\", lines=True)     "
   ]
  },
  {
   "cell_type": "markdown",
   "id": "9b3eaf90",
   "metadata": {},
   "source": [
    "# EDIT:\n",
    "## New output after task changed\n",
    "To create a subset of this which gives the class of the fire as 1 if classified as caused by agricultural practices or 0 if not."
   ]
  },
  {
   "cell_type": "code",
   "execution_count": null,
   "id": "79e52394",
   "metadata": {},
   "outputs": [],
   "source": [
    "#create GeoDataFrame using latitute longitude values\n",
    "newdf = gpd.GeoDataFrame(fire_points,\n",
    "                         geometry=gpd.points_from_xy(fire_points.longitude,\n",
    "                                                    fire_points.latitude)) \n",
    "\n",
    "#------------------Checking probability in mosaic tiff file----------------------#\n",
    "\n",
    "index_list = []                               #declaring empty to get corresponding id of fire point\n",
    "flag_list = []                                #empty list to store class of corresponding fire points based polygon\n",
    "    \n",
    "for j in range(len(data)):                #iterating all rows of dataframe to get point info\n",
    "\n",
    "    stats = zonal_stats(newdf.iloc[j].geometry, tiff, stats=\"*\", categorical=True)         #getting statistics from the raster point \n",
    "    i = stats[0]                                                                          #storing statsistical dictionary in a value\n",
    "    if i['count'] != 0:                                                                   #check if polygon is within the tiff file or not\n",
    "        index = data.iloc[j]['index']                                                     #get id of polygon\n",
    "        index_list.append(index)                                                          #store id in a list\n",
    "        if 5 in i:                                                                        #check if crop class is in polygon region or not\n",
    "            flag = 1                                                        #calculate probabilty of fire in crop field\n",
    "        else:\n",
    "            flag = 0                                                                      # if crop class is not in polygon, return 0 pixels\n",
    "        flag_list.append(flag)                                                            #store class value in a list\n",
    "        \n",
    "print(\"--- %s seconds ---\" % (time.time() - start_time))                                  #print total time taken to run code \n",
    "\n",
    "#dictionary created wth fireID and class (1,0)\n",
    "id_class = {key: value for key, value in zip(index_list, flag_list)}\n",
    "\n",
    "#creating tuple of each key and  value pair\n",
    "data_items = id_class.items()                                                \n",
    "#dumping all tuples in a list\n",
    "data_list = list(data_items)\n",
    "\n",
    "#creating DataFrame with id and class values\n",
    "class_df = pd.DataFrame(data_list, columns= ['fireID','class (1,0)'])\n",
    "#dumping to json file\n",
    "class_df = class_df.to_json('output2_new.json', orient=\"records\", lines=True)  "
   ]
  },
  {
   "cell_type": "markdown",
   "id": "304fe17e",
   "metadata": {},
   "source": [
    "# Some maps for Visual Pleasure :P\n",
    "![](map1.png \"\")\n",
    "![](map2.png \"\")"
   ]
  },
  {
   "cell_type": "markdown",
   "id": "15439564",
   "metadata": {},
   "source": [
    "![](map4.png \"\")\n",
    "![](Map3.png \"\")"
   ]
  },
  {
   "cell_type": "code",
   "execution_count": null,
   "id": "a701c47b",
   "metadata": {},
   "outputs": [],
   "source": []
  }
 ],
 "metadata": {
  "colab": {
   "collapsed_sections": [],
   "name": "TASK2.ipynb",
   "provenance": []
  },
  "kernelspec": {
   "display_name": "Python 3 (ipykernel)",
   "language": "python",
   "name": "python3"
  },
  "language_info": {
   "codemirror_mode": {
    "name": "ipython",
    "version": 3
   },
   "file_extension": ".py",
   "mimetype": "text/x-python",
   "name": "python",
   "nbconvert_exporter": "python",
   "pygments_lexer": "ipython3",
   "version": "3.9.7"
  }
 },
 "nbformat": 4,
 "nbformat_minor": 5
}
