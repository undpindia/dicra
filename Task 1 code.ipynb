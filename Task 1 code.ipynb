{
 "cells": [
  {
   "cell_type": "markdown",
   "metadata": {},
   "source": [
    "import csv import json with open(‘D:/undp/gadm40_IND_shp/Telangana Fire\n",
    "count.csv’, ‘r’) as f: reader = csv.reader(f, delimiter=‘;’) data_list =\n",
    "list() for row in reader: data_list.append(row) data =\n",
    "\\[dict(zip(data_list\\[0\\],row)) for row in data_list\\] data.pop(0) s =\n",
    "json.dumps(data) print (s) output:"
   ]
  }
 ],
 "nbformat": 4,
 "nbformat_minor": 5,
 "metadata": {}
}
